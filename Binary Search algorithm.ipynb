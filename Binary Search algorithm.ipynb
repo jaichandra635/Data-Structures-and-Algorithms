{
 "cells": [
  {
   "cell_type": "code",
   "execution_count": 3,
   "id": "e635df82",
   "metadata": {},
   "outputs": [
    {
     "name": "stdout",
     "output_type": "stream",
     "text": [
      "Target Found at:  6\n",
      "Target Not Found in List\n"
     ]
    }
   ],
   "source": [
    "def binary_search(list, target):\n",
    "    first = 0\n",
    "    last = len(list) - 1\n",
    "    \n",
    "    while first <= last:\n",
    "        midpoint = (first + last)//2\n",
    "        \n",
    "        if list[midpoint] == target:\n",
    "            return midpoint\n",
    "        \n",
    "        elif list[midpoint] < target:\n",
    "            first = midpoint + 1\n",
    "            \n",
    "        else:\n",
    "            last = midpoint - 1\n",
    "    return None\n",
    "\n",
    "def verify(index):\n",
    "    if index is not None:\n",
    "        print(\"Target Found at: \", index)\n",
    "    else:\n",
    "        print(\"Target Not Found in List\")\n",
    "    \n",
    "numbers = [1,2,3,4,5,6,7]\n",
    "\n",
    "result = binary_search(numbers, 7)\n",
    "verify(result)\n",
    "\n",
    "result2 = binary_search(numbers, 8)\n",
    "verify(result2)\n",
    "            \n",
    "            "
   ]
  },
  {
   "cell_type": "code",
   "execution_count": null,
   "id": "e52c632c",
   "metadata": {},
   "outputs": [],
   "source": []
  }
 ],
 "metadata": {
  "kernelspec": {
   "display_name": "Python 3 (ipykernel)",
   "language": "python",
   "name": "python3"
  },
  "language_info": {
   "codemirror_mode": {
    "name": "ipython",
    "version": 3
   },
   "file_extension": ".py",
   "mimetype": "text/x-python",
   "name": "python",
   "nbconvert_exporter": "python",
   "pygments_lexer": "ipython3",
   "version": "3.10.9"
  }
 },
 "nbformat": 4,
 "nbformat_minor": 5
}
